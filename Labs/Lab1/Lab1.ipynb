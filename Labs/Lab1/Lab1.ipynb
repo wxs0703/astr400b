{
 "cells": [
  {
   "cell_type": "markdown",
   "metadata": {},
   "source": [
    "# In Class Lab 1\n",
    "\n",
    "### Due by midnight, thursday in your github repository 'Labs/Lab1' folder\n"
   ]
  },
  {
   "cell_type": "code",
   "execution_count": 6,
   "metadata": {},
   "outputs": [],
   "source": [
    "# Import Modules \n",
    "import numpy as np # import numpy\n",
    "import astropy.units as u # import astropy units\n",
    "from astropy import constants as const # import astropy constants"
   ]
  },
  {
   "cell_type": "markdown",
   "metadata": {},
   "source": [
    "### Astropy Units:  https://docs.astropy.org/en/stable/units/index.html"
   ]
  },
  {
   "cell_type": "markdown",
   "metadata": {},
   "source": [
    "\n",
    "## Part A:  The Local Standard of Rest\n",
    "Proper motion of Sgr A* from Reid & Brunthaler 2004\n",
    "$\\mu = 6.379$ mas/yr \n",
    "\n",
    "Peculiar motion of the sun, $v_\\odot$ = 12.24 km/s  (Schonrich 2010)\n",
    "\n",
    "\n",
    "$v_{tan} = 4.74 \\frac{\\mu}{\\rm mas/yr} \\frac{R_o}{\\rm kpc} = V_{LSR} + v_\\odot$\n",
    "\n",
    "\n",
    "### a)\n",
    "\n",
    "Create a function called VLSR to compute the local standard of res (V$_{LSR}$).\n",
    "\n",
    "The function should take as input: the solar radius (R$_o$), the proper motion (mu)\n",
    "and the peculiar motion of the sun in the $v_\\odot$ direction.\n",
    "\n",
    "Compute V$_{LSR}$ using three different values R$_o$: \n",
    "1. Water Maser Distance for the Sun :  R$_o$ = 8.34 kpc   (Reid 2014 ApJ 783) \n",
    "2. GRAVITY Collaboration Distance for the Sun:  R$_o$ = 8.178 kpc   (Abuter+2019 A&A 625)\n",
    "3. Value for Distance to Sun listed in Sparke & Gallagher : R$_o$ = 7.9 kpc \n"
   ]
  },
  {
   "cell_type": "code",
   "execution_count": 7,
   "metadata": {},
   "outputs": [],
   "source": [
    "def VLSR(R0, mu=6.379*u.mas/u.yr, v_sun=12.24*u.km/u.s):\n",
    "    '''\n",
    "    Calculates the local standard of rest velocity of the sun.\n",
    "    \n",
    "    Arguments:\n",
    "        R0: astropy.Quantity, solar radius, any unit of length\n",
    "        mu: astropy.Quantity, proper motion, any unit of velocity\n",
    "        v_sun: astropy.Quantity, peculiar motion of the sun, any unit of velocity\n",
    "    \n",
    "    Returns:\n",
    "        VLSR: astropy.Quantity, VLSR in km/s\n",
    "    '''\n",
    "    R0 = R0.to(u.kpc) / u.kpc\n",
    "    mu = mu.to(u.mas/u.yr) * u.yr/u.mas\n",
    "    v_tan = 4.74*R0*mu*u.km/u.s\n",
    "    VLSR = v_tan - v_sun\n",
    "    \n",
    "    return VLSR"
   ]
  },
  {
   "cell_type": "code",
   "execution_count": 8,
   "metadata": {},
   "outputs": [],
   "source": [
    "# Calcuclate VLSR for each R0\n",
    "VLSR_Reid = VLSR(8.34*u.kpc)\n",
    "VLSR_Abuter = VLSR(8.178*u.kpc)\n",
    "VLSR_SnG = VLSR(7.9*u.kpc)"
   ]
  },
  {
   "cell_type": "code",
   "execution_count": 9,
   "metadata": {},
   "outputs": [
    {
     "name": "stdout",
     "output_type": "stream",
     "text": [
      "Answer for 1: 239.9320764 km / s\n",
      "Answer for 2: 235.03376988000002 km / s\n",
      "Answer for 3: 226.628034 km / s\n"
     ]
    }
   ],
   "source": [
    "print(f'Answer for 1: {VLSR_Reid}')\n",
    "print(f'Answer for 2: {VLSR_Abuter}')\n",
    "print(f'Answer for 3: {VLSR_SnG}')"
   ]
  },
  {
   "cell_type": "markdown",
   "metadata": {},
   "source": [
    "### b)\n",
    "\n",
    "compute the orbital period of the sun in Gyr using R$_o$ from the GRAVITY Collaboration (assume circular orbit)\n",
    "\n",
    "Note that 1 km/s $\\sim$ 1kpc/Gyr"
   ]
  },
  {
   "cell_type": "code",
   "execution_count": 21,
   "metadata": {},
   "outputs": [],
   "source": [
    "def calc_orbital_period(R0, VLSR):\n",
    "    '''\n",
    "    Calculates orbital period of the sun around the galaxy.\n",
    "    \n",
    "    Arguments:\n",
    "        R0: astropy.Quantity, solar radius, any unit of length\n",
    "        VLSR: astropy.Quantity, local standard of rest velocity, any unit of velocity\n",
    "    \n",
    "    Returns:\n",
    "        T_sun: astropy.Quantity, orbital period in Gyrs\n",
    "    '''\n",
    "    R0 = R0.to(u.kpc)\n",
    "    VLSR = VLSR.to(u.kpc/u.Gyr)\n",
    "    T_sun = 2*np.pi*R0/VLSR\n",
    "    \n",
    "    return T_sun"
   ]
  },
  {
   "cell_type": "code",
   "execution_count": 26,
   "metadata": {},
   "outputs": [],
   "source": [
    "# Using R0 from GRAVITY\n",
    "R0_Abuter = 8.178*u.kpc\n",
    "T_sun = calc_orbital_period(R0_Abuter, VLSR_Abuter)"
   ]
  },
  {
   "cell_type": "code",
   "execution_count": 23,
   "metadata": {},
   "outputs": [
    {
     "name": "stdout",
     "output_type": "stream",
     "text": [
      "orbital period of the sun: 0.2137682914325781 Gyr\n"
     ]
    }
   ],
   "source": [
    "print(f'orbital period of the sun: {T_sun}')"
   ]
  },
  {
   "cell_type": "markdown",
   "metadata": {},
   "source": [
    "### c)\n",
    "\n",
    "Compute the number of rotations about the GC over the age of the universe (13.8 Gyr)"
   ]
  },
  {
   "cell_type": "code",
   "execution_count": 24,
   "metadata": {},
   "outputs": [
    {
     "name": "stdout",
     "output_type": "stream",
     "text": [
      "Sun rotates 64.55587920696125 times over the age of the universe\n"
     ]
    }
   ],
   "source": [
    "AgeUniverse = 13.8*u.Gyr\n",
    "N_rotations = AgeUniverse/T_sun\n",
    "print(f'Sun rotates {N_rotations} times over the age of the universe')"
   ]
  },
  {
   "cell_type": "markdown",
   "metadata": {},
   "source": [
    "## Part B  Dark Matter Density Profiles\n",
    "\n",
    "### a)\n",
    "Try out Fitting Rotation Curves \n",
    "[here](http://wittman.physics.ucdavis.edu/Animations/RotationCurve/GalacticRotation.html)\n",
    "\n",
    "\n",
    "### b)\n",
    "\n",
    "\n",
    "In the Isothermal Sphere model, what is the mass enclosed within the solar radius (R$_o$) in units of M$_\\odot$? \n",
    "\n",
    "Recall that for the Isothermal sphere :\n",
    "$\\rho(r) = \\frac{V_{LSR}^2}{4\\pi G r^2}$\n",
    "\n",
    "Where $G$ = 4.4985e-6 kpc$^3$/Gyr$^2$/M$_\\odot$, r is in kpc and $V_{LSR}$ is in km/s\n",
    "\n",
    "What about at 260 kpc (in units of  M$_\\odot$) ? "
   ]
  },
  {
   "cell_type": "code",
   "execution_count": 25,
   "metadata": {},
   "outputs": [],
   "source": [
    "def massIso(r, VLSR):\n",
    "    '''\n",
    "    Computes the dark matter mass enclosed within a given radius,\n",
    "    assuming an Isothermal Sphere Model M(r) = VLSR^2/G*r\n",
    "    \n",
    "    Arguments:\n",
    "        r: astropy.Quantity, radius of the sphere enclosing the mass to be computed\n",
    "        VLSR: astropy.Quantity, local standard of rest velocity\n",
    "    \n",
    "    Returns:\n",
    "        M: astropy.Quantity, mass enclosed within r, in Msun\n",
    "    '''\n",
    "    G = 4.4985e-6 * (u.kpc**3/u.Gyr**2/u.Msun)\n",
    "    r = r.to(u.kpc)\n",
    "    VLSR = VLSR.to(u.kpc/u.Gyr)\n",
    "    M = VLSR**2/G*r\n",
    "    \n",
    "    return M"
   ]
  },
  {
   "cell_type": "code",
   "execution_count": 31,
   "metadata": {},
   "outputs": [
    {
     "name": "stdout",
     "output_type": "stream",
     "text": [
      "1.05e+11 solMass\n"
     ]
    }
   ],
   "source": [
    "# Calculate enclosed mass at solar radius\n",
    "mIsoSolar = massIso(R0_Abuter, VLSR_Abuter)\n",
    "print(f'{mIsoSolar:.2e}')"
   ]
  },
  {
   "cell_type": "code",
   "execution_count": 32,
   "metadata": {},
   "outputs": [
    {
     "name": "stdout",
     "output_type": "stream",
     "text": [
      "3.34e+12 solMass\n"
     ]
    }
   ],
   "source": [
    "# Calculate enclosed mass at 260 kpc\n",
    "mIso260 = massIso(260*u.kpc, VLSR_Abuter)\n",
    "print(f'{mIso260:.2e}')"
   ]
  },
  {
   "cell_type": "markdown",
   "metadata": {},
   "source": [
    "## c) \n",
    "\n",
    "The Leo I satellite is one of the fastest moving satellite galaxies we know. \n",
    "\n",
    "\n",
    "It is moving with 3D velocity of magnitude: Vtot = 196 km/s at a distance of 260 kpc (Sohn 2013 ApJ 768)\n",
    "\n",
    "If we assume that Leo I is moving at the escape speed:\n",
    "\n",
    "$v_{esc}^2 = 2|\\Phi| = 2 \\int G \\frac{\\rho(r)}{r}dV $ \n",
    "\n",
    "and assuming the Milky Way is well modeled by a Hernquist Sphere with a scale radius of $a$= 30 kpc, what is the minimum mass of the Milky Way (in units of M$_\\odot$) ?  \n",
    "\n",
    "How does this compare to estimates of the mass assuming the Isothermal Sphere model at 260 kpc (from your answer above)"
   ]
  },
  {
   "cell_type": "code",
   "execution_count": 34,
   "metadata": {},
   "outputs": [],
   "source": [
    "def massHernVesc(vesc, r, a=30*u.kpc):\n",
    "    '''\n",
    "    Determines the total dark matter mass needed given an escape speed,\n",
    "    assuming a Hernquist profile.\n",
    "    \n",
    "    Arguments:\n",
    "        vesc: astropy.Quantity, escape speed, any unit of velocity\n",
    "        r: astropy.Quantity, distance from galactic center, any unit of length\n",
    "        a: astropy.Quantity, the Hernquist scale length, in kpc, default 30 kpc.\n",
    "        \n",
    "    Returns:\n",
    "        M: astropy.Quantity, minimum mass of Milky Way, in Msun\n",
    "    '''\n",
    "    G = const.G.to(u.kpc**3/u.Gyr**2/u.Msun)\n",
    "    vesc = vesc.to(u.kpc/u.Gyr)\n",
    "    r = r.to(u.kpc)\n",
    "    a = a.to(u.kpc)\n",
    "    M = vesc**2/2/G*(r+a)\n",
    "    \n",
    "    return M"
   ]
  },
  {
   "cell_type": "code",
   "execution_count": 37,
   "metadata": {},
   "outputs": [
    {
     "name": "stdout",
     "output_type": "stream",
     "text": [
      "Mass of Dark matter to keep LeoI bound: 1.30e+12 solMass\n"
     ]
    }
   ],
   "source": [
    "Vleo = 196*u.km/u.s\n",
    "r = 260*u.kpc\n",
    "M = massHernVesc(Vleo, r)\n",
    "print(f'Mass of Dark matter to keep LeoI bound: {M:.2e}')"
   ]
  }
 ],
 "metadata": {
  "kernelspec": {
   "display_name": "Python 3 (ipykernel)",
   "language": "python",
   "name": "python3"
  },
  "language_info": {
   "codemirror_mode": {
    "name": "ipython",
    "version": 3
   },
   "file_extension": ".py",
   "mimetype": "text/x-python",
   "name": "python",
   "nbconvert_exporter": "python",
   "pygments_lexer": "ipython3",
   "version": "3.8.12"
  }
 },
 "nbformat": 4,
 "nbformat_minor": 2
}
