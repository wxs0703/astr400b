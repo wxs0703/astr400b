{
 "cells": [
  {
   "cell_type": "code",
   "execution_count": 8,
   "id": "394db14d-232a-496f-a683-839aacdddc8f",
   "metadata": {},
   "outputs": [],
   "source": [
    "import numpy as np\n",
    "import astropy.units as u\n",
    "\n",
    "from ParticleProperties import particle_info\n",
    "\n",
    "file_dir = '/home/wxs0703/astr400b/MW_000.txt'"
   ]
  },
  {
   "cell_type": "markdown",
   "id": "532b3604-19f0-4007-a631-4fac74ca1d1f",
   "metadata": {},
   "source": [
    "#### Extract properties from assigned particle (100th disk particle)"
   ]
  },
  {
   "cell_type": "code",
   "execution_count": 13,
   "id": "9e88f723-0a40-4909-a7c4-cac9790ce674",
   "metadata": {},
   "outputs": [],
   "source": [
    "dist, v, m = particle_info(file_dir, 2, 99)\n",
    "dist = np.round(dist.to(u.lyr), 3)"
   ]
  },
  {
   "cell_type": "code",
   "execution_count": 14,
   "id": "2a47387d-1b98-4835-817d-1927704dc53c",
   "metadata": {},
   "outputs": [
    {
     "name": "stdout",
     "output_type": "stream",
     "text": [
      "3D distance is 13845.338 lyr\n",
      "3D velocity is 312.135 km / s\n",
      "Mass is 1000000.0 solMass\n"
     ]
    }
   ],
   "source": [
    "print(f'3D distance is {dist}')\n",
    "print(f'3D velocity is {v}')\n",
    "print(f'Mass is {m}')"
   ]
  }
 ],
 "metadata": {
  "kernelspec": {
   "display_name": "astr400b",
   "language": "python",
   "name": "astr400b"
  },
  "language_info": {
   "codemirror_mode": {
    "name": "ipython",
    "version": 3
   },
   "file_extension": ".py",
   "mimetype": "text/x-python",
   "name": "python",
   "nbconvert_exporter": "python",
   "pygments_lexer": "ipython3",
   "version": "3.12.8"
  }
 },
 "nbformat": 4,
 "nbformat_minor": 5
}
