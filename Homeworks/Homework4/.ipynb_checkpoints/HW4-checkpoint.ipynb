{
 "cells": [
  {
   "cell_type": "code",
   "execution_count": 14,
   "id": "24c5975c",
   "metadata": {},
   "outputs": [],
   "source": [
    "from os.path import join\n",
    "import numpy as np\n",
    "\n",
    "from CenterOfMass import CenterOfMass\n",
    "from ReadFile import read\n",
    "\n",
    "data_dir = '/home/wxs0703/astr400b/'"
   ]
  },
  {
   "cell_type": "markdown",
   "id": "c10c1a04",
   "metadata": {},
   "source": [
    "#### Question 1"
   ]
  },
  {
   "cell_type": "code",
   "execution_count": 15,
   "id": "81514210",
   "metadata": {},
   "outputs": [
    {
     "name": "stdout",
     "output_type": "stream",
     "text": [
      "[-2.07  2.95 -1.45] kpc\n",
      "[ 0.94  6.32 -1.35] km / s\n"
     ]
    }
   ],
   "source": [
    "# Compute COM position and velocity for MW using disk particles\n",
    "MW_COM = CenterOfMass(join(data_dir, \"MW_000.txt\"), 2)\n",
    "MW_COM_p = MW_COM.COM_P(0.1)\n",
    "print(MW_COM_p)\n",
    "MW_COM_v = MW_COM.COM_V(MW_COM_p[0], MW_COM_p[1], MW_COM_p[2])\n",
    "print(MW_COM_v)"
   ]
  },
  {
   "cell_type": "code",
   "execution_count": 16,
   "id": "90b0b203",
   "metadata": {},
   "outputs": [
    {
     "name": "stdout",
     "output_type": "stream",
     "text": [
      "[-377.66  611.43 -284.64] kpc\n",
      "[ 72.85 -72.14  49.  ] km / s\n"
     ]
    }
   ],
   "source": [
    "# Compute COM position and velocity for M31 using disk particles\n",
    "M31_COM = CenterOfMass(join(data_dir, \"M31_000.txt\"), 2)\n",
    "M31_COM_p = M31_COM.COM_P(0.1)\n",
    "print(M31_COM_p)\n",
    "M31_COM_v = M31_COM.COM_V(M31_COM_p[0], M31_COM_p[1], M31_COM_p[2])\n",
    "print(M31_COM_v)"
   ]
  },
  {
   "cell_type": "code",
   "execution_count": 17,
   "id": "6b2615a8",
   "metadata": {},
   "outputs": [
    {
     "name": "stdout",
     "output_type": "stream",
     "text": [
      "[-476.22  491.44 -412.4 ] kpc\n",
      "[ 44.42 101.78 142.23] km / s\n"
     ]
    }
   ],
   "source": [
    "# Compute COM position and velocity for M33 using disk particles\n",
    "M33_COM = CenterOfMass(join(data_dir, \"M33_000.txt\"), 2)\n",
    "M33_COM_p = M33_COM.COM_P(0.1)\n",
    "print(M33_COM_p)\n",
    "M33_COM_v = M33_COM.COM_V(M33_COM_p[0], M33_COM_p[1], M33_COM_p[2])\n",
    "print(M33_COM_v)"
   ]
  },
  {
   "cell_type": "markdown",
   "id": "472c8939",
   "metadata": {},
   "source": [
    "#### Question 2"
   ]
  },
  {
   "cell_type": "code",
   "execution_count": 20,
   "id": "0c678f05",
   "metadata": {},
   "outputs": [
    {
     "name": "stdout",
     "output_type": "stream",
     "text": [
      "Spatial separation between MW and M31 is 769.098 kpc\n",
      "Relative velovity between MW and M31 is 117.738 km / s\n"
     ]
    }
   ],
   "source": [
    "# Compute relative position and velocity between MW and M31\n",
    "MW_M31_p = np.round(np.sqrt(np.sum((MW_COM_p-M31_COM_p)**2)), 3)\n",
    "MW_M31_v = np.round(np.sqrt(np.sum((MW_COM_v-M31_COM_v)**2)), 3)\n",
    "print(f'Spatial separation between MW and M31 is {MW_M31_p}')\n",
    "print(f'Relative velovity between MW and M31 is {MW_M31_v}')"
   ]
  },
  {
   "cell_type": "markdown",
   "id": "5a7d746e",
   "metadata": {},
   "source": [
    "#### Question 3"
   ]
  },
  {
   "cell_type": "code",
   "execution_count": 21,
   "id": "9300fade",
   "metadata": {},
   "outputs": [
    {
     "name": "stdout",
     "output_type": "stream",
     "text": [
      "Spatial separation between M33 and M31 is 201.083 kpc\n",
      "Relative velovity between M33 and M31 is 199.37 km / s\n"
     ]
    }
   ],
   "source": [
    "# Compute relative position and velocity between M33 and M31\n",
    "M33_M31_p = np.round(np.sqrt(np.sum((M33_COM_p-M31_COM_p)**2)), 3)\n",
    "M33_M31_v = np.round(np.sqrt(np.sum((M33_COM_v-M31_COM_v)**2)), 3)\n",
    "print(f'Spatial separation between M33 and M31 is {M33_M31_p}')\n",
    "print(f'Relative velovity between M33 and M31 is {M33_M31_v}')"
   ]
  },
  {
   "cell_type": "markdown",
   "id": "cd20d37f",
   "metadata": {},
   "source": [
    "#### Question 4\n",
    "\n",
    "It is very important to use an iterative process to determine the COM as accurately as possible, because the dynamics of the merge will be chaotic, even a slight offset in the COM will result in a very different evolution."
   ]
  }
 ],
 "metadata": {
  "kernelspec": {
   "display_name": "astr400b",
   "language": "python",
   "name": "astr400b"
  },
  "language_info": {
   "codemirror_mode": {
    "name": "ipython",
    "version": 3
   },
   "file_extension": ".py",
   "mimetype": "text/x-python",
   "name": "python",
   "nbconvert_exporter": "python",
   "pygments_lexer": "ipython3",
   "version": "3.12.8"
  }
 },
 "nbformat": 4,
 "nbformat_minor": 5
}
