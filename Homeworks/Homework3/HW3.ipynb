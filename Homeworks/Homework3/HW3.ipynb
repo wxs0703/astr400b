{
 "cells": [
  {
   "cell_type": "code",
   "execution_count": 1,
   "id": "6bb626e3",
   "metadata": {},
   "outputs": [],
   "source": [
    "from os.path import join\n",
    "import numpy as np\n",
    "import astropy.units as u\n",
    "from astropy.table import Table\n",
    "from astropy.io import ascii\n",
    "\n",
    "from GalaxyMass import component_mass\n",
    "from ReadFile import read\n",
    "\n",
    "file_root = '/home/wxs0703/astr400b/'"
   ]
  },
  {
   "cell_type": "code",
   "execution_count": 2,
   "id": "40d67b77",
   "metadata": {},
   "outputs": [],
   "source": [
    "# Define columns and galaxy names\n",
    "\n",
    "columns = ['Galaxy Name', \n",
    "           'Halo Mass (1e12 Msun)', \n",
    "           'Disk Mass (1e12 Msun)', \n",
    "           'Bulge Mass (1e12 Msun)', \n",
    "           'Total Mass (1e12 Msun)', \n",
    "           'f_bar']\n",
    "\n",
    "galaxies = ['MW', 'M31', 'M33']"
   ]
  },
  {
   "cell_type": "code",
   "execution_count": 3,
   "id": "0d4e5ff9",
   "metadata": {},
   "outputs": [],
   "source": [
    "# Initialize array to store mass data\n",
    "mass_data = np.ndarray((len(galaxies), len(columns[1:])))\n",
    "\n",
    "# Compute mass data for all galaxies\n",
    "for i, gal in enumerate(galaxies):\n",
    "    m_halo = component_mass(join(file_root, gal+'_000.txt'), 1)\n",
    "    m_disk = component_mass(join(file_root, gal+'_000.txt'), 2)\n",
    "    m_bulge = component_mass(join(file_root, gal+'_000.txt'), 3)\n",
    "    m_tot = m_halo + m_disk + m_bulge\n",
    "    f_bar = np.round((m_disk + m_bulge)/m_tot, 3)\n",
    "    mass_data[i] = [m_halo, m_disk, m_bulge, m_tot, f_bar]"
   ]
  },
  {
   "cell_type": "code",
   "execution_count": 4,
   "id": "7292b750",
   "metadata": {},
   "outputs": [],
   "source": [
    "# Store data as table and add column with galaxy names\n",
    "table = Table(data=mass_data, names=columns[1:])\n",
    "table.add_column(galaxies, 0, name=columns[0])"
   ]
  },
  {
   "cell_type": "code",
   "execution_count": 6,
   "id": "186f0e3a",
   "metadata": {},
   "outputs": [],
   "source": [
    "# Export table in LaTeX format\n",
    "ascii.write(table, 'mass_table.txt', format='latex', overwrite=True)"
   ]
  }
 ],
 "metadata": {
  "kernelspec": {
   "display_name": "astr400b",
   "language": "python",
   "name": "astr400b"
  },
  "language_info": {
   "codemirror_mode": {
    "name": "ipython",
    "version": 3
   },
   "file_extension": ".py",
   "mimetype": "text/x-python",
   "name": "python",
   "nbconvert_exporter": "python",
   "pygments_lexer": "ipython3",
   "version": "3.12.8"
  }
 },
 "nbformat": 4,
 "nbformat_minor": 5
}
